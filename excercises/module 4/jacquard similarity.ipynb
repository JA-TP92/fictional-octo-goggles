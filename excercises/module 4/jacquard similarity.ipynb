{
 "cells": [
  {
   "cell_type": "code",
   "execution_count": 17,
   "id": "34677778",
   "metadata": {},
   "outputs": [
    {
     "name": "stdout",
     "output_type": "stream",
     "text": [
      "Jaccard Similarity: 0.6666666666666666\n"
     ]
    }
   ],
   "source": [
    "def jaccard_similarity(set1, set2):\n",
    "    # intersection of two sets\n",
    "    intersection = len(set1.intersection(set2))\n",
    "    # Unions of two sets\n",
    "    union = len(set1.union(set2))\n",
    "    \n",
    "    return intersection / union\n",
    "\n",
    "Jack = {\"M\", \"Y\", \"N\", \"P\", \"N\", \"N\", \"A\"}\n",
    "Mary = {\"F\", \"Y\", \"N\", \"P\", \"A\", \"P\", \"N\"}\n",
    "\n",
    "\n",
    "\n",
    "similarity = jaccard_similarity(Jack, Mary)\n",
    "print(\"Jaccard Similarity:\", similarity)"
   ]
  },
  {
   "cell_type": "code",
   "execution_count": 19,
   "id": "3a403b49",
   "metadata": {},
   "outputs": [
    {
     "name": "stdout",
     "output_type": "stream",
     "text": [
      "Jaccard Similarity: 1.0\n"
     ]
    }
   ],
   "source": [
    "def jaccard_similarity(set1, set2):\n",
    "    # intersection of two sets\n",
    "    intersection = len(set1.intersection(set2))\n",
    "    # Unions of two sets\n",
    "    union = len(set1.union(set2))\n",
    "    \n",
    "    return intersection / union\n",
    "\n",
    "Jack = {\"M\", \"Y\", \"N\", \"P\", \"N\", \"N\", \"A\"}\n",
    "Jim={\"M\", \"Y\", \"P\", \"N\", \"N\", \"N\", \"A\"}\n",
    "\n",
    "\n",
    "\n",
    "similarity = jaccard_similarity(Jack, Jim)\n",
    "\n",
    "print(\"Jaccard Similarity:\", similarity)"
   ]
  },
  {
   "cell_type": "code",
   "execution_count": 21,
   "id": "b0674b94",
   "metadata": {},
   "outputs": [
    {
     "name": "stdout",
     "output_type": "stream",
     "text": [
      "Jaccard Similarity: 0.6666666666666666\n"
     ]
    }
   ],
   "source": [
    "def jaccard_similarity(set1, set2):\n",
    "    # intersection of two sets\n",
    "    intersection = len(set1.intersection(set2))\n",
    "    # Unions of two sets\n",
    "    union = len(set1.union(set2))\n",
    "    \n",
    "    return intersection / union\n",
    "\n",
    "\n",
    "Mary = {\"F\", \"Y\", \"N\", \"P\", \"A\", \"P\", \"N\"}\n",
    "Jim={\"M\", \"Y\", \"P\", \"N\", \"N\", \"N\", \"A\"}\n",
    "\n",
    "\n",
    "similarity = jaccard_similarity(Jim, Mary)\n",
    "print(\"Jaccard Similarity:\", similarity)"
   ]
  }
 ],
 "metadata": {
  "kernelspec": {
   "display_name": "base",
   "language": "python",
   "name": "python3"
  },
  "language_info": {
   "codemirror_mode": {
    "name": "ipython",
    "version": 3
   },
   "file_extension": ".py",
   "mimetype": "text/x-python",
   "name": "python",
   "nbconvert_exporter": "python",
   "pygments_lexer": "ipython3",
   "version": "3.12.7"
  }
 },
 "nbformat": 4,
 "nbformat_minor": 5
}
