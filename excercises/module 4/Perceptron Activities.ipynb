{
 "cells": [
  {
   "cell_type": "code",
   "execution_count": null,
   "id": "5c73b16e",
   "metadata": {},
   "outputs": [],
   "source": [
    "import numpy as np\n",
    "import random "
   ]
  },
  {
   "cell_type": "markdown",
   "id": "d0059908",
   "metadata": {},
   "source": [
    "2. Generate two random integer\n"
   ]
  },
  {
   "cell_type": "code",
   "execution_count": 14,
   "id": "56de6022",
   "metadata": {},
   "outputs": [
    {
     "name": "stdout",
     "output_type": "stream",
     "text": [
      "6 43\n"
     ]
    }
   ],
   "source": [
    "\n",
    "import random\n",
    "\n",
    "num1 = random.randint(1, 20)\n",
    "num2 = random.randint(1, 50)\n",
    "\n",
    "print(num1, num2)\n"
   ]
  },
  {
   "cell_type": "markdown",
   "id": "758628d1",
   "metadata": {},
   "source": [
    "Create input and weight array"
   ]
  },
  {
   "cell_type": "code",
   "execution_count": 15,
   "id": "1a09a193",
   "metadata": {},
   "outputs": [
    {
     "data": {
      "text/plain": [
       "numpy.ndarray"
      ]
     },
     "execution_count": 15,
     "metadata": {},
     "output_type": "execute_result"
    }
   ],
   "source": [
    "inputs = np.array([num1, num2])\n",
    "type(inputs)"
   ]
  },
  {
   "cell_type": "code",
   "execution_count": 16,
   "id": "44fdc643",
   "metadata": {},
   "outputs": [],
   "source": [
    "weights = np.array([0.6, 0.4])"
   ]
  },
  {
   "cell_type": "markdown",
   "id": "e9473abb",
   "metadata": {},
   "source": [
    "Define and apply a weighted sum functio"
   ]
  },
  {
   "cell_type": "code",
   "execution_count": 17,
   "id": "3fc980de",
   "metadata": {},
   "outputs": [],
   "source": [
    "def sum_func(inputs, weights):\n",
    "    return inputs.dot(weights)"
   ]
  },
  {
   "cell_type": "code",
   "execution_count": 18,
   "id": "a4dca1cd",
   "metadata": {},
   "outputs": [
    {
     "data": {
      "text/plain": [
       "20.799999999999997"
      ]
     },
     "execution_count": 18,
     "metadata": {},
     "output_type": "execute_result"
    }
   ],
   "source": [
    "s_prob1 = sum_func(inputs, weights)\n",
    "s_prob1 "
   ]
  },
  {
   "cell_type": "markdown",
   "id": "f399a033",
   "metadata": {},
   "source": [
    "Define a step functio"
   ]
  },
  {
   "cell_type": "code",
   "execution_count": 20,
   "id": "6f36d6fe",
   "metadata": {},
   "outputs": [],
   "source": [
    "def step_function(sum_func):\n",
    "  if (sum_func >= 1):\n",
    "    print(f'The Sum Function is greater than or equal to 1')\n",
    "    return 1\n",
    "  else:\n",
    "        print(f'The Sum Function is NOT greater')\n",
    "        return 0"
   ]
  },
  {
   "cell_type": "code",
   "execution_count": 21,
   "id": "ced91e88",
   "metadata": {},
   "outputs": [
    {
     "name": "stdout",
     "output_type": "stream",
     "text": [
      "The Sum Function is greater than or equal to 1\n"
     ]
    },
    {
     "data": {
      "text/plain": [
       "1"
      ]
     },
     "execution_count": 21,
     "metadata": {},
     "output_type": "execute_result"
    }
   ],
   "source": [
    "step_function(s_prob1 )"
   ]
  },
  {
   "cell_type": "markdown",
   "id": "0eac50cf",
   "metadata": {},
   "source": [
    "Perceptron and operator"
   ]
  },
  {
   "cell_type": "code",
   "execution_count": 22,
   "id": "dcc7e1ab",
   "metadata": {},
   "outputs": [],
   "source": [
    "# Creating input values as a matrix not as a vector\n",
    "inputs = np.array([[0,0], [0,1], [1,0], [1,1]])"
   ]
  },
  {
   "cell_type": "code",
   "execution_count": 23,
   "id": "606b7fed",
   "metadata": {},
   "outputs": [],
   "source": [
    "outputs = np.array([0, 0, 0, 1])"
   ]
  },
  {
   "cell_type": "code",
   "execution_count": 26,
   "id": "92ea822e",
   "metadata": {},
   "outputs": [],
   "source": [
    "weights = np.array([0.0, 0.0])"
   ]
  },
  {
   "cell_type": "code",
   "execution_count": 27,
   "id": "b2d4b533",
   "metadata": {},
   "outputs": [],
   "source": [
    "learning_rate = 0.1"
   ]
  },
  {
   "cell_type": "code",
   "execution_count": 28,
   "id": "d66c773a",
   "metadata": {},
   "outputs": [],
   "source": [
    "\n",
    "def step_function(sum):\n",
    "  if (sum >= 1):\n",
    "    #print(f'The Sum of Weights is Greater or equal to 1')\n",
    "    return 1\n",
    "  else:\n",
    "        #print(f'The Sum of Weights is NOT > or = to 1')\n",
    "        return 0"
   ]
  },
  {
   "cell_type": "code",
   "execution_count": 29,
   "id": "2d2670d1",
   "metadata": {},
   "outputs": [],
   "source": [
    "def cal_output(instance):\n",
    "  sum_func = instance.dot(weights)\n",
    "  return step_function(sum_func)"
   ]
  },
  {
   "cell_type": "code",
   "execution_count": 30,
   "id": "39d78968",
   "metadata": {},
   "outputs": [
    {
     "data": {
      "text/plain": [
       "0"
      ]
     },
     "execution_count": 30,
     "metadata": {},
     "output_type": "execute_result"
    }
   ],
   "source": [
    "cal_output(np.array([[1,1]]))"
   ]
  },
  {
   "cell_type": "code",
   "execution_count": 31,
   "id": "9ce77523",
   "metadata": {},
   "outputs": [],
   "source": [
    "def train():\n",
    "    #\n",
    "    total_error_value = 1\n",
    "    # While the total_error_value is not equal to zero. we are asumming that at the start of running our network there will be no zero\n",
    "    while (total_error_value != 0):\n",
    "        #making the total_error 0 so we can do other calculations\n",
    "        total_error_value = 0\n",
    "        #Looping into each row of the dataset (remember indexing in python starts at zero hence 0-3 which are 4 values)\n",
    "        for i in range(len(outputs)):\n",
    "            #Calculating predictions\n",
    "            prediction = cal_output(inputs[i])\n",
    "            # Calculating the absolute value of the error\n",
    "            error = abs(outputs[i] - prediction)\n",
    "            #Updating the error\n",
    "            total_error_value  += error\n",
    "            \n",
    "            if error > 0:\n",
    "                for j in range(len(weights)):\n",
    "                    #updating the weights for x1 and x2\n",
    "                    weights[j] = weights[j] + (learning_rate * inputs[i][j] * error)\n",
    "                    print('Weight updated to: ' + str(weights[j]))\n",
    "        print('Total error Value: ' + str(total_error_value))"
   ]
  },
  {
   "cell_type": "code",
   "execution_count": 32,
   "id": "b68e5f7d",
   "metadata": {},
   "outputs": [
    {
     "name": "stdout",
     "output_type": "stream",
     "text": [
      "Weight updated to: 0.1\n",
      "Weight updated to: 0.1\n",
      "Total error Value: 1\n",
      "Weight updated to: 0.2\n",
      "Weight updated to: 0.2\n",
      "Total error Value: 1\n",
      "Weight updated to: 0.30000000000000004\n",
      "Weight updated to: 0.30000000000000004\n",
      "Total error Value: 1\n",
      "Weight updated to: 0.4\n",
      "Weight updated to: 0.4\n",
      "Total error Value: 1\n",
      "Weight updated to: 0.5\n",
      "Weight updated to: 0.5\n",
      "Total error Value: 1\n",
      "Total error Value: 0\n"
     ]
    }
   ],
   "source": [
    "train()"
   ]
  },
  {
   "cell_type": "code",
   "execution_count": 33,
   "id": "b73a6e0c",
   "metadata": {},
   "outputs": [
    {
     "data": {
      "text/plain": [
       "0"
      ]
     },
     "execution_count": 33,
     "metadata": {},
     "output_type": "execute_result"
    }
   ],
   "source": [
    "cal_output(np.array([0,0]))"
   ]
  }
 ],
 "metadata": {
  "kernelspec": {
   "display_name": "base",
   "language": "python",
   "name": "python3"
  },
  "language_info": {
   "codemirror_mode": {
    "name": "ipython",
    "version": 3
   },
   "file_extension": ".py",
   "mimetype": "text/x-python",
   "name": "python",
   "nbconvert_exporter": "python",
   "pygments_lexer": "ipython3",
   "version": "3.12.7"
  }
 },
 "nbformat": 4,
 "nbformat_minor": 5
}
