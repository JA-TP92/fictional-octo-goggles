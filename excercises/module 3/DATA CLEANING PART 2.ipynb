{
 "cells": [
  {
   "cell_type": "code",
   "execution_count": 3,
   "id": "a1375ff2",
   "metadata": {},
   "outputs": [
    {
     "name": "stderr",
     "output_type": "stream",
     "text": [
      "<>:2: SyntaxWarning: invalid escape sequence '\\w'\n",
      "<>:2: SyntaxWarning: invalid escape sequence '\\w'\n",
      "C:\\Users\\jator\\AppData\\Local\\Temp\\ipykernel_35828\\1279091980.py:2: SyntaxWarning: invalid escape sequence '\\w'\n",
      "  word = '\\w+'\n"
     ]
    },
    {
     "data": {
      "text/plain": [
       "'Here'"
      ]
     },
     "execution_count": 3,
     "metadata": {},
     "output_type": "execute_result"
    }
   ],
   "source": [
    "import re\n",
    "word = '\\w+'\n",
    "sentence = 'Here is my sentence.'\n",
    "re.findall(word, sentence)\n",
    "search_result = re.search(word, sentence)\n",
    "search_result.group()\n",
    "match_result = re.match(word, sentence)\n",
    "match_result.group()"
   ]
  },
  {
   "cell_type": "code",
   "execution_count": 6,
   "id": "f5b52b83",
   "metadata": {},
   "outputs": [
    {
     "name": "stdout",
     "output_type": "stream",
     "text": [
      "Meet Barack!\n",
      "Meet Ronald!\n",
      "Meet Nancy!\n"
     ]
    },
    {
     "name": "stderr",
     "output_type": "stream",
     "text": [
      "<>:2: SyntaxWarning: invalid escape sequence '\\w'\n",
      "<>:7: SyntaxWarning: invalid escape sequence '\\w'\n",
      "<>:2: SyntaxWarning: invalid escape sequence '\\w'\n",
      "<>:7: SyntaxWarning: invalid escape sequence '\\w'\n",
      "C:\\Users\\jator\\AppData\\Local\\Temp\\ipykernel_35828\\2064680775.py:2: SyntaxWarning: invalid escape sequence '\\w'\n",
      "  name_regex = '([A-Z]\\w+) ([A-Z]\\w+)'\n",
      "C:\\Users\\jator\\AppData\\Local\\Temp\\ipykernel_35828\\2064680775.py:7: SyntaxWarning: invalid escape sequence '\\w'\n",
      "  name_regex = '(?P<first_name>[A-Z]\\w+) (?P<last_name>[A-Z]\\w+)'\n"
     ]
    }
   ],
   "source": [
    "import re\n",
    "name_regex = '([A-Z]\\w+) ([A-Z]\\w+)'\n",
    "names = \"Barack Obama, Ronald Reagan, Nancy Drew\"\n",
    "name_match = re.match(name_regex, names)\n",
    "name_match.group()\n",
    "name_match.groups()\n",
    "name_regex = '(?P<first_name>[A-Z]\\w+) (?P<last_name>[A-Z]\\w+)'\n",
    "for name in re.finditer(name_regex, names):\n",
    " print ('Meet {}!'.format(name.group('first_name')))\n"
   ]
  },
  {
   "cell_type": "code",
   "execution_count": 9,
   "id": "1751f78c",
   "metadata": {},
   "outputs": [],
   "source": [
    "from csv import DictReader\n",
    "path_headers = r\"C:\\Users\\jator\\OneDrive\\Documentos\\GITHUB\\Fictional Octo Googles\\excercises\\module 3\\mn_headers.csv\"\n",
    "path_data= r\"C:\\Users\\jator\\OneDrive\\Documentos\\GITHUB\\Fictional Octo Googles\\excercises\\module 3\\mn.csv\"\n",
    "mn_data_rdr = DictReader(open(path_data, 'r', encoding='utf-8'), delimiter=',')\n",
    "mn_data = [d for d in mn_data_rdr]"
   ]
  },
  {
   "cell_type": "code",
   "execution_count": 10,
   "id": "a433ae55",
   "metadata": {},
   "outputs": [],
   "source": [
    "def combine_data_dict(data_rows):\n",
    "    data_dict = {}\n",
    "    for row in data_rows:\n",
    "        key = '%s-%s' % (row.get('HH1'), row.get('HH2'))\n",
    "        if key in data_dict.keys():\n",
    "            data_dict[key].append(row)\n",
    "    else:\n",
    "            data_dict[key] = [row]\n",
    "    return data_dict\n"
   ]
  },
  {
   "cell_type": "code",
   "execution_count": 11,
   "id": "4ee0561f",
   "metadata": {},
   "outputs": [],
   "source": [
    "mn_dict = combine_data_dict(mn_data)"
   ]
  },
  {
   "cell_type": "code",
   "execution_count": 13,
   "id": "1961dc21",
   "metadata": {},
   "outputs": [
    {
     "name": "stdout",
     "output_type": "stream",
     "text": [
      "1\n"
     ]
    }
   ],
   "source": [
    "print (len(mn_dict))"
   ]
  }
 ],
 "metadata": {
  "kernelspec": {
   "display_name": "base",
   "language": "python",
   "name": "python3"
  },
  "language_info": {
   "codemirror_mode": {
    "name": "ipython",
    "version": 3
   },
   "file_extension": ".py",
   "mimetype": "text/x-python",
   "name": "python",
   "nbconvert_exporter": "python",
   "pygments_lexer": "ipython3",
   "version": "3.12.7"
  }
 },
 "nbformat": 4,
 "nbformat_minor": 5
}
