{
 "cells": [
  {
   "cell_type": "code",
   "execution_count": 51,
   "id": "f972b02d",
   "metadata": {},
   "outputs": [
    {
     "name": "stdout",
     "output_type": "stream",
     "text": [
      "Defaulting to user installation because normal site-packages is not writeable\n",
      "Collecting fuzzywuzzy\n",
      "  Downloading fuzzywuzzy-0.18.0-py2.py3-none-any.whl.metadata (4.9 kB)\n",
      "Downloading fuzzywuzzy-0.18.0-py2.py3-none-any.whl (18 kB)\n",
      "Installing collected packages: fuzzywuzzy\n",
      "Successfully installed fuzzywuzzy-0.18.0\n",
      "Note: you may need to restart the kernel to use updated packages.\n"
     ]
    }
   ],
   "source": [
    "%pip install fuzzywuzzy\n",
    "\n",
    "\n"
   ]
  },
  {
   "cell_type": "code",
   "execution_count": null,
   "id": "53eaedc2",
   "metadata": {},
   "outputs": [],
   "source": [
    "from csv import reader\n",
    "from datetime import datetime\n",
    "from fuzzywuzzy import fuzz"
   ]
  },
  {
   "cell_type": "code",
   "execution_count": 18,
   "id": "36097d53",
   "metadata": {},
   "outputs": [],
   "source": [
    "path_headers = r\"C:\\Users\\jator\\OneDrive\\Documentos\\GITHUB\\Fictional Octo Googles\\excercises\\module 3\\mn_headers.csv\"\n",
    "path_data= r\"C:\\Users\\jator\\OneDrive\\Documentos\\GITHUB\\Fictional Octo Googles\\excercises\\module 3\\mn.csv\""
   ]
  },
  {
   "cell_type": "code",
   "execution_count": 29,
   "id": "3faa2e04",
   "metadata": {},
   "outputs": [
    {
     "name": "stdout",
     "output_type": "stream",
     "text": [
      "['', 'HH1', 'HH2', 'LN', 'MWM1', 'MWM2', 'MWM4', 'MWM5', 'MWM6D', 'MWM6M', 'MWM6Y', 'MWM7', 'MWM8', 'MWM9', 'MWM10H', 'MWM10M', 'MWM11H', 'MWM11M', 'MWB1M', 'MWB1Y', 'MWB2', 'MWB3', 'MWB4', 'MWB5', 'MWB7', 'MMT2', 'MMT3', 'MMT4', 'MMT6', 'MMT7', 'MMT8', 'MMT9', 'MMT10', 'MMT11', 'MMT12', 'MMT13', 'MMT14', 'MCM1', 'MCM3', 'MCM4', 'MCM5A', 'MCM5B', 'MCM6', 'MCM7A', 'MCM7B', 'MCM8', 'MCM9A', 'MCM9B', 'MCM10', 'MCM11A', 'MCM11B', 'MCM12M', 'MCM12Y', 'MDV1A', 'MDV1B', 'MDV1C', 'MDV1D', 'MDV1E', 'MDV1F', 'MMA1', 'MMA3', 'MMA4', 'MMA5', 'MMA6', 'MMA7', 'MMA8M', 'MMA8Y', 'MMA9', 'MSB1', 'MSB2', 'MSB3U', 'MSB3N', 'MSB4', 'MSB5', 'MSB8', 'MSB9', 'MSB10', 'MSB13', 'MSB14', 'MSB15', 'MHA1', 'MHA2', 'MHA3', 'MHA4', 'MHA5', 'MHA6', 'MHA7', 'MHA8A', 'MHA8B', 'MHA8C', 'MHA9', 'MHA10', 'MHA11', 'MHA12', 'MHA24', 'MHA25', 'MHA26', 'MHA27', 'MMC1', 'MMC2', 'MMC3', 'MMC4', 'MTA1', 'MTA2', 'MTA3', 'MTA4', 'MTA5', 'MTA6', 'MTA7', 'MTA8A', 'MTA8B', 'MTA8C', 'MTA8D', 'MTA8E', 'MTA8X', 'MTA9', 'MTA10', 'MTA11', 'MTA12A', 'MTA12B', 'MTA12C', 'MTA12X', 'MTA13', 'MTA14', 'MTA15', 'MTA16', 'MTA17', 'TNLN', 'TN4', 'TN5', 'TN6', 'TN8', 'TN9', 'TN10', 'TN11', 'TN12_1', 'TN12_2', 'TN12_3', 'TN12_4', 'HH6', 'HH7', 'MWDOI', 'MWDOB', 'MWAGE', 'MWDOM', 'MWAGEM', 'MWDOBLC', 'MMSTATUS', 'MCEB', 'MCSURV', 'MCDEAD', 'mwelevel', 'mnweight', 'wscore', 'windex5', 'wscoreu', 'windex5u', 'wscorer', 'windex5r']\n",
      "['Name', 'Label', 'Question']\n"
     ]
    }
   ],
   "source": [
    "data_rdr = reader(open(path_data, 'r', encoding='utf-8'))\n",
    "header_rdr = reader(open(path_headers, 'r', encoding='utf-8'))\n",
    "print(next(data_rdr))\n",
    "print(next(header_rdr))"
   ]
  },
  {
   "cell_type": "code",
   "execution_count": 20,
   "id": "a4d7548b",
   "metadata": {},
   "outputs": [
    {
     "name": "stdout",
     "output_type": "stream",
     "text": [
      "150\n"
     ]
    }
   ],
   "source": [
    "data_rows = [d for d in data_rdr]\n",
    "header_rows = [h for h in header_rdr if h[0] in data_rows[0]]\n",
    "print (len(header_rows))\n"
   ]
  },
  {
   "cell_type": "code",
   "execution_count": 21,
   "id": "f422a45d",
   "metadata": {},
   "outputs": [],
   "source": [
    "all_short_headers = [h[0] for h in header_rows]\n",
    "\n"
   ]
  },
  {
   "cell_type": "code",
   "execution_count": 22,
   "id": "aad7d069",
   "metadata": {},
   "outputs": [],
   "source": [
    "skip_index = []\n",
    "final_header_rows = []"
   ]
  },
  {
   "cell_type": "code",
   "execution_count": 23,
   "id": "4bde4a81",
   "metadata": {},
   "outputs": [],
   "source": [
    "for header in data_rows[0]:\n",
    "    if header not in all_short_headers:\n",
    "        index = data_rows[0].index(header)\n",
    "        skip_index.append(index)\n",
    "    else:\n",
    "        for head in header_rows:\n",
    "            if head[0] == header:\n",
    "                final_header_rows.append(head)\n",
    "                break\n"
   ]
  },
  {
   "cell_type": "code",
   "execution_count": 24,
   "id": "2bfb0cc2",
   "metadata": {},
   "outputs": [],
   "source": [
    "new_data = []"
   ]
  },
  {
   "cell_type": "code",
   "execution_count": 25,
   "id": "bc9a973e",
   "metadata": {},
   "outputs": [],
   "source": [
    "for row in data_rows[1:]:\n",
    "    new_row = []\n",
    "    for i, d in enumerate(row):\n",
    "        if i not in skip_index:\n",
    "            new_row.append(d)\n",
    "    new_data.append(new_row)"
   ]
  },
  {
   "cell_type": "code",
   "execution_count": 26,
   "id": "ebc77d55",
   "metadata": {},
   "outputs": [],
   "source": [
    "zipped_data = []"
   ]
  },
  {
   "cell_type": "code",
   "execution_count": 27,
   "id": "10a85852",
   "metadata": {},
   "outputs": [],
   "source": [
    "for drow in new_data:\n",
    "    zipped_data.append(zip(final_header_rows, drow))"
   ]
  },
  {
   "cell_type": "code",
   "execution_count": 28,
   "id": "f94a0dd1",
   "metadata": {},
   "outputs": [
    {
     "name": "stdout",
     "output_type": "stream",
     "text": [
      "Question: ['HH1', 'Cluster number', '']\n",
      "Answer: 1\n",
      "Question: ['HH2', 'Household number', '']\n",
      "Answer: 17\n",
      "Question: ['LN', 'Line number', '']\n",
      "Answer: 1\n",
      "Question: ['MWM1', 'Cluster number', '']\n",
      "Answer: 1\n",
      "Question: ['MWM2', 'Household number', '']\n",
      "Answer: 17\n",
      "Question: ['MWM4', \"Man's line number\", '']\n",
      "Answer: 1\n",
      "Question: ['MWM5', 'Interviewer number', '']\n",
      "Answer: 14\n",
      "Question: ['MWM6D', 'Day of interview', '']\n",
      "Answer: 7\n",
      "Question: ['MWM6M', 'Month of interview', '']\n",
      "Answer: 4\n",
      "Question: ['MWM6Y', 'Year of interview', '']\n",
      "Answer: 2014\n",
      "Question: ['MWM7', \"Result of man's interview\", '']\n",
      "Answer: Completed\n",
      "Question: ['MWM8', 'Field editor', '']\n",
      "Answer: 2\n",
      "Question: ['MWM9', 'Data entry clerk', '']\n",
      "Answer: 20\n",
      "Question: ['MWM10H', 'Start of interview - Hour', '']\n",
      "Answer: 17\n",
      "Question: ['MWM10M', 'Start of interview - Minutes', '']\n",
      "Answer: 59\n",
      "Question: ['MWM11H', 'End of interview - Hour', '']\n",
      "Answer: 18\n",
      "Question: ['MWM11M', 'End of interview - Minutes', '']\n",
      "Answer: 7\n",
      "Question: ['MWB1M', 'Month of birth of man', 'In what month and year were you born?']\n",
      "Answer: 5\n",
      "Question: ['MWB1Y', 'Year of birth of man', 'In what month and year were you born?']\n",
      "Answer: 1984\n",
      "Question: ['MWB2', 'Age of man', 'How old are you?']\n",
      "Answer: 29\n",
      "Question: ['MWB3', 'Ever attended school', 'Have you ever attended school or a preschool institution?']\n",
      "Answer: Yes\n",
      "Question: ['MWB4', 'Highest level of school attended', 'What is the highest education level you attended?']\n",
      "Answer: Higher\n",
      "Question: ['MWB5', 'Highest grade completed at that level', 'What is the highest grade/year you completed at that level?']\n",
      "Answer: 31\n",
      "Question: ['MWB7', 'Can read part of the sentence', 'Now I would like you to read this sentence to me.\\nShow the sentence on the card to the respondent. If the respondent cannot read the whole sentence, probe: Can you read part of the sentence to me?']\n",
      "Answer: NA\n",
      "Question: ['MMT2', 'Frequency of reading newspaper or magazine', 'How often do you read a newspaper or magazine: Almost every day, at least once a week, less than once a week or not at all?']\n",
      "Answer: Almost every day\n",
      "Question: ['MMT3', 'Frequency of listening to the radio', 'Do you listen to the radio almost every day, at least once a week, less than once a week or not at all?']\n",
      "Answer: At least once a week\n",
      "Question: ['MMT4', 'Frequency of watching TV', 'How often do you watch television: Would you say that you watch TV almost every day, at least once a week, less than once a week or not at all?']\n",
      "Answer: Less than once a week\n",
      "Question: ['MMT6', 'Ever used a computer', 'Have you ever used a computer?']\n",
      "Answer: Yes\n",
      "Question: ['MMT7', 'Computer usage in the last 12 months', 'In the last 12 months, have you used a computer from any location?']\n",
      "Answer: Yes\n",
      "Question: ['MMT8', 'Frequency of computer usage in the last month', 'During the last month, how often did you use a computer: almost every day, at least once a week, less than once a week or not at all?']\n",
      "Answer: Almost every day\n",
      "Question: ['MMT9', 'Ever used internet', 'Have you ever used the internet?']\n",
      "Answer: Yes\n",
      "Question: ['MMT10', 'Internet usage in the last 12 months', 'In the last 12 months, have you used the internet?']\n",
      "Answer: Yes\n",
      "Question: ['MMT11', 'Frequency of Internet usage in the past month', 'During the last month, how often did you use the internet: almost every day, at least once a week, less than once a week or not at all?']\n",
      "Answer: Almost every day\n",
      "Question: ['MMT12', 'Ever used a mobile or non-mobile phone', '']\n",
      "Answer: Yes\n",
      "Question: ['MMT13', 'Mobile or non-mobile phone usage in the last 12 months', '']\n",
      "Answer: Yes\n",
      "Question: ['MMT14', 'Frequency of mobile or non-mobile usage in the past month', '']\n",
      "Answer: Almost every day\n",
      "Question: ['MCM1', 'Ever fathered any children with any women', 'Now i would like to ask about all the children you have had in your lifetime. I am interested in all of the children that are biologically yours, even if they are not legally yours or do not have your last name.\\nHave you had any biological children with any woman?']\n",
      "Answer: No\n",
      "Question: ['MCM3', 'Age when first child was born', 'How old were you when your (first) child was born?']\n",
      "Answer: NA\n",
      "Question: ['MCM4', 'Any sons or daughters living with you', 'Do you have any biological sons or daughters who are now living with you?']\n",
      "Answer: NA\n",
      "Question: ['MCM5A', 'Sons living with you', 'How many sons live with you?']\n",
      "Answer: NA\n",
      "Question: ['MCM5B', 'Daughters living with you', 'How many daughters live with you?']\n",
      "Answer: NA\n",
      "Question: ['MCM6', 'Any sons or daughters not living with you', 'Do you have any biological sons or daughters who are alive but do not live with you?']\n",
      "Answer: NA\n",
      "Question: ['MCM7A', 'Sons living elsewhere', 'How many sons are alive but do not live with you?']\n",
      "Answer: NA\n",
      "Question: ['MCM7B', 'Daughters living elsewhere', 'How many daughters are alive but do not live with you?']\n",
      "Answer: NA\n",
      "Question: ['MCM8', 'Ever had child who later died', 'Have you had a biological son or daughter who was born alive but later died?']\n",
      "Answer: No\n",
      "Question: ['MCM9A', 'Boys dead', 'How many boys have died?']\n",
      "Answer: NA\n",
      "Question: ['MCM9B', 'Girls dead', 'How many girls have died?']\n",
      "Answer: NA\n",
      "Question: ['MCM10', 'Children ever born', '']\n",
      "Answer: 0\n",
      "Question: ['MCM11A', 'Same biological mother', 'Did all the biological children you have, have the same biological mother?']\n",
      "Answer: NA\n",
      "Question: ['MCM11B', 'Number of women respondent fathered children with', 'In all, how many women have you had biological children with?']\n",
      "Answer: NA\n",
      "Question: ['MCM12M', 'Month of last birth', 'Of these (total number in MCM10) biological children, when was the last one born (even if he or she has died)?']\n",
      "Answer: NA\n",
      "Question: ['MCM12Y', 'Year of last birth', 'Of these (total number in MCM10) biological children, when was the last one born (even if he or she has died)?']\n",
      "Answer: NA\n",
      "Question: ['MDV1A', 'If she goes out with out telling husband: wife beating justified', 'Sometimes a husband becomes annoyed or gets angry at things that his wife does. In your opinion, is a husband justified in hitting or beating his wife in the following situations: [A] If she goes out without telling him?']\n",
      "Answer: No\n",
      "Question: ['MDV1B', 'If she neglects the children: wife beating justified', 'Sometimes a husband becomes annoyed or gets angry at things that his wife does. In your opinion, is a husband justified in hitting or beating his wife in the following situations: [B] If she neglects the children?']\n",
      "Answer: No\n",
      "Question: ['MDV1C', 'If she argues with husband: wife beating justified', 'Sometimes a husband becomes annoyed or gets angry at things that his wife does. In your opinion, is a husband justified in hitting or beating his wife in the following situations: [C] If she argues with him?']\n",
      "Answer: No\n",
      "Question: ['MDV1D', 'If she refuses sex with husband: wife beating justified', 'Sometimes a husband becomes annoyed or gets angry at things that his wife does. In your opinion, is a husband justified in hitting or beating his wife in the following situations: [D] If she refuses to have sex with him?']\n",
      "Answer: No\n",
      "Question: ['MDV1E', 'If she burns the food: wife beating justified', 'Sometimes a husband becomes annoyed or gets angry at things that his wife does. In your opinion, is a husband justified in hitting or beating his wife in the following situations: [E] If she burns the food?']\n",
      "Answer: No\n",
      "Question: ['MMA1', 'Currently married or living with a man', 'Are you currently married or living together with a woman as if married?']\n",
      "Answer: Yes, currently married\n",
      "Question: ['MMA3', 'Haveing other wives or liveing with other women as if you are married', 'Do you have other wives or do you live with other women as if married?']\n",
      "Answer: No (Only one)\n",
      "Question: ['MMA4', 'How many other wives / partners living with you', 'How many other wives or live-in partners do you have?']\n",
      "Answer: NA\n",
      "Question: ['MMA5', 'Ever married or lived with a woman', 'Have you ever been married or lived together with a woman as if married?']\n",
      "Answer: NA\n",
      "Question: ['MMA6', 'Marital status', 'What is your marital status now: are you widowed, divorced or separated?']\n",
      "Answer: NA\n",
      "Question: ['MMA7', 'Married or lived with a woman once or more than once', 'Have you been married or lived with a woman only once or more than once?']\n",
      "Answer: Only once\n",
      "Question: ['MMA8M', 'Month of first union', 'In what month and year did you first marry or start living with a woman as if married?']\n",
      "Answer: 9\n",
      "Question: ['MMA8Y', 'Year of first union', 'In what month and year did you first marry or start living with a woman as if married?']\n",
      "Answer: 2013\n",
      "Question: ['MMA9', 'Age at first union', 'How old were you when you started living with your first wife/partner?']\n",
      "Answer: NA\n",
      "Question: ['MSB1', 'Age at first sexual intercourse', 'Now i would like to ask you some questions about sexual activity in order to get a better understanding of some important life issues.\\nThe information you provide will remain strictly confidential. How old were you when you had sexual intercourse for the very first time?']\n",
      "Answer: 20\n",
      "Question: ['MSB2', 'Condom used during first sexual intercourse', 'The first time you had sexual intercourse, was a condom used?']\n",
      "Answer: Yes\n",
      "Question: ['MSB3U', 'Time since last sexual intercourse (unit)', \"When was the last time you had sexual intercourse?\\nRecord 'years ago' only if last intercourse was one or more years ago. If 12 months or more the answer must be recorded in years.\"]\n",
      "Answer: Days ago\n",
      "Question: ['MSB3N', 'Time since last sexual intercourse (number)', \"When was the last time you had sexual intercourse?\\nRecord 'years ago' only if last intercourse was one or more years ago. If 12 months or more the answer must be recorded in years.\"]\n",
      "Answer: 0\n",
      "Question: ['MSB4', 'Condom used at last sexual intercourse', 'The last time you had sexual intercourse, was a condom used?']\n",
      "Answer: No\n",
      "Question: ['MSB5', 'Relationship to last sexual partner', 'What was your relationship to the person you last had sexual intercourse with?']\n",
      "Answer: Wife\n",
      "Question: ['MSB8', 'Sex with any other person in the last 12 month', 'Have you had sexual intercourse with any other person in the last 12 months?']\n",
      "Answer: No\n",
      "Question: ['MSB9', 'Condom used with prior sexual partner', 'The last time you had sexual intercourse with this other person, was a condom used?']\n",
      "Answer: NA\n",
      "Question: ['MSB10', 'Relationship to prior sexual partner', 'What was your relationship to this person?']\n",
      "Answer: NA\n",
      "Question: ['MSB13', 'Sex with any other man in the last 12 months', 'In the last 12 months, have you had sexual intercourse with any other person, other than these two persons?']\n",
      "Answer: NA\n",
      "Question: ['MSB14', 'Number of sex partners in last 12 months', 'In total, with how many different people have you had sexual intercourse in the last 12 months?']\n",
      "Answer: NA\n",
      "Question: ['MSB15', 'Number of sex partners in lifetime', 'In total, with how many different people have you had sexual intercourse in your lifetime?']\n",
      "Answer: 5\n",
      "Question: ['MHA1', 'Ever heard of AIDS', 'Now i would like to talk with you about something else.\\nHave you ever heard of the HIV virus or an illness called AIDS (or SIDA)?']\n",
      "Answer: Yes\n",
      "Question: ['MHA2', 'Can avoid AIDS virus by having one uninfected partner', 'Can people reduce their chance of getting the virus that causes AIDS by having just one uninfected sex partner who has no other sex partners?']\n",
      "Answer: Yes\n",
      "Question: ['MHA3', 'Can get AIDS virus through supernatural means', 'Can people get the virus that causes AIDS because of witchcraft or other supernatural means?']\n",
      "Answer: No\n",
      "Question: ['MHA4', 'Can avoid AIDS virus by using a condom correctly every time', 'Can people reduce their chance of getting the virus that causes AIDS by using a condom every time they have sex?']\n",
      "Answer: Yes\n",
      "Question: ['MHA5', 'Can get AIDS virus from mosquito bites', 'Can people get the virus that causes AIDS from mosquito bites?']\n",
      "Answer: No\n",
      "Question: ['MHA6', 'Can get AIDS virus by sharing food with a person who has AIDS', 'Can people get the virus that causes AIDS by sharing food with a person who has AIDS?']\n",
      "Answer: No\n",
      "Question: ['MHA7', 'Healthy-looking person may have AIDS virus', 'Is it possible for a healthy-looking person to have the virus that causes AIDS?']\n",
      "Answer: Yes\n",
      "Question: ['MHA8A', 'AIDS virus from mother to child during pregnancy', 'Can the virus that causes AIDS be transmitted from a mother to her baby: [A] During pregnancy?']\n",
      "Answer: DK\n",
      "Question: ['MHA8B', 'AIDS virus from mother to child during delivery', 'Can the virus that causes AIDS be transmitted from a mother to her baby: [B] During delivery?']\n",
      "Answer: Yes\n",
      "Question: ['MHA8C', 'AIDS virus from mother to child through breastfeeding', 'Can the virus that causes AIDS be transmitted from a mother to her baby: [C] By breastfeeding?']\n",
      "Answer: DK\n",
      "Question: ['MHA9', 'Should female teacher with AIDS virus be allowed to teach in school', 'In your opinion, if a female teacher has the virus that causes AIDS but is not sick, should she be allowed to continue teaching in school?']\n",
      "Answer: Yes\n",
      "Question: ['MHA10', 'Would buy fresh vegetables from shopkeeper with AIDS virus', 'Would you buy fresh vegetables from a shopkeeper or salesperson if you knew that this person had the virus that causes AIDS?']\n",
      "Answer: Yes\n",
      "Question: ['MHA11', 'If HH member became infected with AIDS virus, would want it to remain a secret', 'If a member of your family got infected with the virus that causes AIDS, would you want it to remain a secret?']\n",
      "Answer: No\n",
      "Question: ['MHA12', 'Willing to care for person with AIDS in household', 'If a member of your family became sick with AIDS, would you be willing to care for him or her in your own household?']\n",
      "Answer: Yes\n",
      "Question: ['MHA24', 'Ever been tested for AIDS virus', 'I don’t want to know the results, but have you ever been tested to see if you have the virus that causes AIDS?']\n",
      "Answer: Yes\n",
      "Question: ['MHA25', 'Most recent time of testing for AIDS virus', 'When was the most recent time you were tested?']\n",
      "Answer: Less than 12 months ago\n",
      "Question: ['MHA26', 'Received results of AIDS virus test', 'I don’t want to know the results, but did you get the results of this test?']\n",
      "Answer: Yes\n",
      "Question: ['MHA27', 'Know a place to get AIDS virus test', 'Do you know of a place where people can go to get tested for the virus that causes AIDS?']\n",
      "Answer: NA\n",
      "Question: ['MMC1', 'Respondent is circumcised', '']\n",
      "Answer: No\n",
      "Question: ['MMC2', 'Age at circumcision', '']\n",
      "Answer: NA\n",
      "Question: ['MMC3', 'Person performing circumcision', '']\n",
      "Answer: NA\n",
      "Question: ['MMC4', 'Place of circumcision', '']\n",
      "Answer: NA\n",
      "Question: ['MTA1', 'Ever tried cigarette smoking', 'Have you ever tried smoking cigarettes, even taking one or two puffs?']\n",
      "Answer: No\n",
      "Question: ['MTA2', 'Age when cigarette was smoked for the first time', 'How old were you when you smoked an entire cigarette for the first time?']\n",
      "Answer: NA\n",
      "Question: ['MTA3', 'Currently smoking cigarettes', 'Do you currently smoke cigarettes?']\n",
      "Answer: NA\n",
      "Question: ['MTA4', 'Number of cigarettes smoked in the last 24 hours', 'How many cigarettes did you smoke during the last month?']\n",
      "Answer: NA\n",
      "Question: ['MTA5', 'Number of days when cigarettes were smoked in past month', 'During the last month, on how many days did you smoke cigarettes?']\n",
      "Answer: NA\n",
      "Question: ['MTA6', 'Ever tried any smoked tobacco products other than cigarettes', 'Have you ever tried any smoked tobacco products other than cigarettes, such as cigars (e.g. Cuban), a pipe or waterpipe (narghile/hookah)?']\n",
      "Answer: No\n",
      "Question: ['MTA7', 'Used any smoked tobacco products during the last month', 'During the last month, did you use any smoked tobacco products?']\n",
      "Answer: NA\n",
      "Question: ['MTA8A', 'Type of smoked tobacco product: Cigars', 'What type of smoked tobacco product did you use or smoke during the last month?']\n",
      "Answer: NA\n",
      "Question: ['MTA8B', 'Type of smoked tobacco product: Water pipe', 'What type of smoked tobacco product did you use or smoke during the last month?']\n",
      "Answer: NA\n",
      "Question: ['MTA8C', 'Type of smoked tobacco product: Cigarillos', 'What type of smoked tobacco product did you use or smoke during the last month?']\n",
      "Answer: NA\n",
      "Question: ['MTA8D', 'Type of smoked tobacco product: Pipe', 'What type of smoked tobacco product did you use or smoke during the last month?']\n",
      "Answer: NA\n",
      "Question: ['MTA8X', 'Type of smoked tobacco product: Other', 'What type of smoked tobacco product did you use or smoke during the last month?']\n",
      "Answer: NA\n",
      "Question: ['MTA9', 'Number of days when tobacco products where smoked in past month', 'On how many days did you use smoked tobacco products during the last month?']\n",
      "Answer: NA\n",
      "Question: ['MTA10', 'Ever tried any form of smokeless tobacco products', 'Have you ever tried any form of smokeless tobacco products, such as chewing tobacco, tobacco for sniffing (snuff) or dipping tobacco?']\n",
      "Answer: No\n",
      "Question: ['MTA11', 'Used any smokeless tobacco products during the last month', 'Did you use any smokeless tobacco products during the last month?']\n",
      "Answer: NA\n",
      "Question: ['MTA12A', 'Type of smokeless tobacco product used: Chewing tobacco', 'What type of smokeless tobacco product did you use during the last month?']\n",
      "Answer: NA\n",
      "Question: ['MTA12B', 'Type of smokeless tobacco product used: Snuff', 'What type of smokeless tobacco product did you use during the last month?']\n",
      "Answer: NA\n",
      "Question: ['MTA12C', 'Type of smokeless tobacco product used: Dip', 'What type of smokeless tobacco product did you use during the last month?']\n",
      "Answer: NA\n",
      "Question: ['MTA12X', 'Type of smokeless tobacco product used: Other', 'What type of smokeless tobacco product did you use during the last month?']\n",
      "Answer: NA\n",
      "Question: ['MTA13', 'Number of days when smokeless tobacco products where used in past month', 'On how many days did you use smokeless tobacco products during the last month?']\n",
      "Answer: NA\n",
      "Question: ['MTA14', 'Ever drunk alcohol', 'Now i would like to ask you some questions about drinking alcohol.\\nHave you ever drunk alcohol?']\n",
      "Answer: Yes\n",
      "Question: ['MTA15', 'Age when alcohol was used for the first time', 'We count one drink of alcohol as one can or bottle of beer, one glass of wine, or one shot of strong drink.\\nHow old were you when you had your first drink of alcohol, not counting a few sips?']\n",
      "Answer: 16\n",
      "Question: ['MTA16', 'Number of days when at least one drink of alcohol was used in past month', 'During the last month, on how many days did you have at least one drink of alcohol?']\n",
      "Answer: 0\n",
      "Question: ['MTA17', 'Number of drinks usually consumed', 'In the last month, on those days that you drank alcohol, what is the number of drinks did you usually had?']\n",
      "Answer: NA\n",
      "Question: ['TNLN', 'Net number', '']\n",
      "Answer: NA\n",
      "Question: ['TN4', 'Mosquito net observed', '']\n",
      "Answer: NA\n",
      "Question: ['TN5', 'Brand/type of observed net', '']\n",
      "Answer: NA\n",
      "Question: ['TN6', 'Months ago net obtained', 'How many months ago did your household get the mosquito net?']\n",
      "Answer: NA\n",
      "Question: ['TN8', 'Net treated with an insecticide when obtained', 'When you got the net, was it already treated with an insecticide to kill or repel mosquitoes?']\n",
      "Answer: NA\n",
      "Question: ['TN9', 'Net soaked or dipped since obtained', 'Since you got the net, was it ever soaked or dipped in a liquid to kill or repel mosquitoes?']\n",
      "Answer: NA\n",
      "Question: ['TN10', 'Months ago net soaked or dipped', 'How many months ago was the net last soaked or dipped?']\n",
      "Answer: NA\n",
      "Question: ['TN11', 'Persons slept under mosquito net last night', 'Did anyone sleep under this mosquito net last night?']\n",
      "Answer: NA\n",
      "Question: ['TN12_1', 'Person 1 who slept under net', 'Who slept under this mosquito net last night?']\n",
      "Answer: NA\n",
      "Question: ['TN12_2', 'Person 2 who slept under net', 'Who slept under this mosquito net last night?']\n",
      "Answer: NA\n",
      "Question: ['TN12_3', 'Person 3 who slept under net', 'Who slept under this mosquito net last night?']\n",
      "Answer: NA\n",
      "Question: ['TN12_4', 'Person 4 who slept under net', 'Who slept under this mosquito net last night?']\n",
      "Answer: NA\n",
      "Question: ['HH6', 'Area', '']\n",
      "Answer: Urban\n",
      "Question: ['HH7', 'Region', '']\n",
      "Answer: Bulawayo\n",
      "Question: ['MWDOI', 'Date of interview women (CMC)', '']\n",
      "Answer: 1372\n",
      "Question: ['MWDOB', 'Date of birth of woman (CMC)', '']\n",
      "Answer: 1013\n",
      "Question: ['MWAGE', 'Age', '']\n",
      "Answer: 25-29\n",
      "Question: ['MWDOM', 'Date of marriage (CMC)', '']\n",
      "Answer: 1365\n",
      "Question: ['MWAGEM', 'Age at first marriage/union', '']\n",
      "Answer: 29\n",
      "Question: ['MWDOBLC', 'Date of birth of last child (CMC)', '']\n",
      "Answer: NA\n",
      "Question: ['MMSTATUS', 'Marital/Union status', '']\n",
      "Answer: Currently married/in union\n",
      "Question: ['MCEB', 'Children ever born', '']\n",
      "Answer: 0\n",
      "Question: ['MCSURV', 'Children surviving', '']\n",
      "Answer: 0\n",
      "Question: ['MCDEAD', 'Children dead', '']\n",
      "Answer: 0\n",
      "Question: ['wscore', 'Wealth index score', '']\n",
      "Answer: 1.60367010204171\n",
      "Question: ['windex5', 'Wealth index quintiles', '']\n",
      "Answer: 5\n"
     ]
    }
   ],
   "source": [
    "for x in zipped_data[0]:\n",
    "    print('Question: {}\\nAnswer: {}'.format(x[0], x[1]))"
   ]
  },
  {
   "cell_type": "code",
   "execution_count": 38,
   "id": "37f16e7e",
   "metadata": {},
   "outputs": [],
   "source": [
    "na_count = {}"
   ]
  },
  {
   "cell_type": "code",
   "execution_count": 39,
   "id": "440ccb47",
   "metadata": {},
   "outputs": [],
   "source": [
    "for row in zipped_data:\n",
    "    for resp in row:\n",
    "        question = resp[0][1]\n",
    "        answer = resp[1]\n",
    "        if answer == 'NA':\n",
    "            if question in na_count.keys():\n",
    "                na_count[question] += 1\n",
    "            else:\n",
    "                na_count[question] = 1\n"
   ]
  },
  {
   "cell_type": "code",
   "execution_count": 40,
   "id": "6d717b7b",
   "metadata": {},
   "outputs": [
    {
     "name": "stdout",
     "output_type": "stream",
     "text": [
      "{'Age when first child was born': 4667, 'Any sons or daughters living with you': 4667, 'Sons living with you': 5580, 'Daughters living with you': 5580, 'Any sons or daughters not living with you': 4667, 'Sons living elsewhere': 6737, 'Daughters living elsewhere': 6737, 'Boys dead': 8125, 'Girls dead': 8125, 'Same biological mother': 4656, 'Number of women respondent fathered children with': 7848, 'Month of last birth': 4656, 'Year of last birth': 4656, 'How many other wives / partners living with you': 8821, 'Ever married or lived with a woman': 5339, 'Marital status': 8624, 'Age at first union': 8963, 'Condom used with prior sexual partner': 8156, 'Relationship to prior sexual partner': 8156, 'Sex with any other man in the last 12 months': 8156, 'Number of sex partners in last 12 months': 8792, 'Know a place to get AIDS virus test': 6157, 'Age at circumcision': 8153, 'Person performing circumcision': 8153, 'Place of circumcision': 8153, 'Age when cigarette was smoked for the first time': 5886, 'Currently smoking cigarettes': 6164, 'Number of cigarettes smoked in the last 24 hours': 7532, 'Number of days when cigarettes were smoked in past month': 7532, 'Used any smoked tobacco products during the last month': 7727, 'Type of smoked tobacco product: Cigars': 8979, 'Type of smoked tobacco product: Water pipe': 9004, 'Type of smoked tobacco product: Cigarillos': 9005, 'Type of smoked tobacco product: Pipe': 9002, 'Type of smoked tobacco product: Other': 8997, 'Number of days when tobacco products where smoked in past month': 8292, 'Used any smokeless tobacco products during the last month': 8542, 'Type of smokeless tobacco product used: Chewing tobacco': 9007, 'Type of smokeless tobacco product used: Snuff': 8881, 'Type of smokeless tobacco product used: Dip': 9004, 'Type of smokeless tobacco product used: Other': 9007, 'Number of days when smokeless tobacco products where used in past month': 8878, 'Age when alcohol was used for the first time': 4330, 'Number of days when at least one drink of alcohol was used in past month': 4567, 'Number of drinks usually consumed': 6597, 'Net number': 6781, 'Mosquito net observed': 6781, 'Brand/type of observed net': 6781, 'Months ago net obtained': 6781, 'Net treated with an insecticide when obtained': 8648, 'Net soaked or dipped since obtained': 8568, 'Months ago net soaked or dipped': 8963, 'Persons slept under mosquito net last night': 6781, 'Person 1 who slept under net': 6781, 'Person 2 who slept under net': 6781, 'Person 3 who slept under net': 7272, 'Person 4 who slept under net': 8108, 'Date of birth of last child (CMC)': 9007, 'Computer usage in the last 12 months': 6763, 'Frequency of computer usage in the last month': 7217, 'Internet usage in the last 12 months': 6320, 'Frequency of Internet usage in the past month': 6564, 'Start of interview - Hour': 1094, 'Start of interview - Minutes': 1094, 'End of interview - Hour': 1094, 'End of interview - Minutes': 1094, 'Month of birth of man': 1094, 'Year of birth of man': 1094, 'Age of man': 1094, 'Ever attended school': 1094, 'Highest level of school attended': 1163, 'Highest grade completed at that level': 1164, 'Can read part of the sentence': 6921, 'Frequency of reading newspaper or magazine': 1731, 'Frequency of listening to the radio': 1094, 'Frequency of watching TV': 1094, 'Ever used a computer': 1094, 'Ever used internet': 1094, 'Ever used a mobile or non-mobile phone': 1094, 'Mobile or non-mobile phone usage in the last 12 months': 1620, 'Frequency of mobile or non-mobile usage in the past month': 1850, 'Ever fathered any children with any women': 1094, 'Ever had child who later died': 1094, 'Children ever born': 2188, 'If she goes out with out telling husband: wife beating justified': 1094, 'If she neglects the children: wife beating justified': 1094, 'If she argues with husband: wife beating justified': 1094, 'If she refuses sex with husband: wife beating justified': 1094, 'If she burns the food: wife beating justified': 1094, 'Currently married or living with a man': 1094, 'Haveing other wives or liveing with other women as if you are married': 4762, 'Married or lived with a woman once or more than once': 4565, 'Month of first union': 4379, 'Year of first union': 4379, 'Age at first sexual intercourse': 1094, 'Condom used during first sexual intercourse': 2931, 'Time since last sexual intercourse (unit)': 2931, 'Time since last sexual intercourse (number)': 2931, 'Condom used at last sexual intercourse': 3367, 'Relationship to last sexual partner': 3367, 'Sex with any other person in the last 12 month': 3367, 'Number of sex partners in lifetime': 2931, 'Ever heard of AIDS': 1094, 'Can avoid AIDS virus by having one uninfected partner': 1184, 'Can get AIDS virus through supernatural means': 1184, 'Can avoid AIDS virus by using a condom correctly every time': 1184, 'Can get AIDS virus from mosquito bites': 1184, 'Can get AIDS virus by sharing food with a person who has AIDS': 1184, 'Healthy-looking person may have AIDS virus': 1184, 'AIDS virus from mother to child during pregnancy': 1184, 'AIDS virus from mother to child during delivery': 1184, 'AIDS virus from mother to child through breastfeeding': 1184, 'Should female teacher with AIDS virus be allowed to teach in school': 1184, 'Would buy fresh vegetables from shopkeeper with AIDS virus': 1184, 'If HH member became infected with AIDS virus, would want it to remain a secret': 1184, 'Willing to care for person with AIDS in household': 1184, 'Ever been tested for AIDS virus': 1184, 'Most recent time of testing for AIDS virus': 4034, 'Received results of AIDS virus test': 4034, 'Respondent is circumcised': 1094, 'Ever tried cigarette smoking': 1094, 'Ever tried any smoked tobacco products other than cigarettes': 1094, 'Ever tried any form of smokeless tobacco products': 1094, 'Ever drunk alcohol': 1094, 'Date of birth of woman (CMC)': 1094, 'Age': 1094, 'Date of marriage (CMC)': 4379, 'Age at first marriage/union': 4379, 'Marital/Union status': 1094, 'Children surviving': 1094, 'Children dead': 1094}\n"
     ]
    }
   ],
   "source": [
    "print (na_count)"
   ]
  },
  {
   "cell_type": "code",
   "execution_count": 41,
   "id": "93e1418f",
   "metadata": {},
   "outputs": [],
   "source": [
    "datatypes = {}"
   ]
  },
  {
   "cell_type": "code",
   "execution_count": 42,
   "id": "96d8e707",
   "metadata": {},
   "outputs": [],
   "source": [
    "start_dict = {'digit': 0, 'boolean': 0,'empty': 0, 'time_related': 0,'text': 0, 'unknown': 0}"
   ]
  },
  {
   "cell_type": "code",
   "execution_count": 43,
   "id": "14e4426c",
   "metadata": {},
   "outputs": [],
   "source": [
    "for row in zipped_data:\n",
    "    for resp in row:\n",
    "        question = resp[0][1]\n",
    "        answer = resp[1]\n",
    "        key = 'unknown'\n",
    "        if answer.isdigit():\n",
    "            key = 'digit'\n",
    "        elif answer in ['Yes', 'No', 'True', 'False']:\n",
    "            key = 'boolean'\n",
    "        elif answer.isspace():\n",
    "            key = 'empty'\n",
    "        elif answer.find('/') > 0 or answer.find(':') > 0:\n",
    "            key = 'time_related'\n",
    "        elif answer.isalpha():\n",
    "            key = 'text'\n",
    "        if question not in datatypes.keys():\n",
    "            datatypes[question] = start_dict.copy()\n",
    "            datatypes[question][key] += 1"
   ]
  },
  {
   "cell_type": "code",
   "execution_count": 44,
   "id": "e6521714",
   "metadata": {},
   "outputs": [
    {
     "name": "stdout",
     "output_type": "stream",
     "text": [
      "{}\n"
     ]
    }
   ],
   "source": [
    "print (datatypes)"
   ]
  }
 ],
 "metadata": {
  "kernelspec": {
   "display_name": "base",
   "language": "python",
   "name": "python3"
  },
  "language_info": {
   "codemirror_mode": {
    "name": "ipython",
    "version": 3
   },
   "file_extension": ".py",
   "mimetype": "text/x-python",
   "name": "python",
   "nbconvert_exporter": "python",
   "pygments_lexer": "ipython3",
   "version": "3.12.7"
  }
 },
 "nbformat": 4,
 "nbformat_minor": 5
}
